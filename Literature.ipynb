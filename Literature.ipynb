{
 "cells": [
  {
   "cell_type": "markdown",
   "id": "b5ef7698-1f23-4a83-ad74-314e223caf3f",
   "metadata": {},
   "source": [
    "# Introducing Qiskit Nature to study energy level\n",
    "## Literature part"
   ]
  },
  {
   "cell_type": "markdown",
   "id": "1bbb03f6-c923-4fc2-8bdd-30d462b1e6bf",
   "metadata": {
    "tags": []
   },
   "source": [
    "### I. Introduction\n",
    "\n",
    "As a new topic in the course of computaional physics this semester, quantum computer provides novel and fantastic ways for us to study and solve problems that we used to solve in classical way and surely shows the possibility that we could use it to solve complicate problems more effectively. One simple example we have seen is the half adder circuit that can calculate 1+1=2 by **IBM Qiskit**, but could **we extend our vision to more complex problem that also related to the physics**? The answer is definitely yes as Richard Feynman envisioned quantum devices as a new computational paradigm for the simulation of Nature at its fundamental (quantum) level [[1]](https://medium.com/qiskit/introducing-qiskit-nature-cb9e588bb004). \n",
    "\n",
    "The amazing platform that we will use in this midterm project is the **[Qiskit Nature](https://medium.com/qiskit/introducing-qiskit-nature-cb9e588bb004)**, which is designed to bridge the gap between natural sciences and quantum simulations. The modularity of Qiskit Nature allows researchers in physics to model and solve problems using quantum simulations as well as direct experiments on quantum computers via the IBM Quantum Cloud systems. In addition, the user interface enables researchers to interact with Qiskit Nature at different levels, ranging from software development (allowing direct programming of new functionalities) to solution-driven applications (requiring no specific quantum computing or quantum hardware knowledge). However, for this midterm project, **we will only focus on the simple part of solution-driven ones by applying them to study the physical problem of energy level and trying to understand and rewrite the codes from given examples.**\n",
    "\n",
    "Then let me briefly talk about the **physical context of this midterm project:** As we know for classical particles, they can have any amount of energy or the so-called \"continuous energy\" and can be solved by using Lagrangian mechanics or Hamiltonian mechanics from the classical theory. As a contrast, things become different when we dive in the micorscopic world of quantum mechanics since particles in quantum system are bound or spatially confined, which means they can only take on certain discrete values of energy and they are called **[energy levels](https://en.wikipedia.org/wiki/Energy_level)**. The energy spectrum of a system with such discrete energy levels is said to be **quantized** and such terms are commonly used for the energy levels of the electrons in atoms, ions, or molecules, which are bound by the electric field of the nucleus[[2]](https://en.wikipedia.org/wiki/Energy_level).\n",
    "\n",
    "In this midterm project, we will mainly study the energy levels of electrons so before starting our physical derivation, the concept of electronic structure is also necessary to be mentioned. **[Electronic configurations](https://en.wikipedia.org/wiki/Electron_configuration)**, which is the distribution of electrons of an atom or molecule in atomic or molecular orbitals, describe each electron as moving independently in an orbital in an average field created by all other orbitals. Mathematically, configurations are described by Slater determinants or configuration state functions[[3]](https://en.wikipedia.org/wiki/Electron_configuration). Then the energy associated to an electron is that of its orbital and the energy of a configuration is often approximated as the sum of the energy of each electron, neglecting the electron-electron interactions. The configuration that corresponds to the lowest electronic energy is called the **[ground state](https://en.wikipedia.org/wiki/Ground_state)**, also known as the zero-point energy of the system. In quantum field theory, the ground state is usually called the **vacuum state** or the vacuum. If more than one ground state exists, they are said to be **degenerate**. Many systems have degenerate ground states and degeneracy occurs whenever there exists a unitary operator that acts non-trivially on a ground state and commutes with the Hamiltonian of the system[[4]](https://en.wikipedia.org/wiki/Ground_state). Any other configuration with energy greater than the ground state is an excited state and electrons are able to move from one configuration to another by the emission or absorption of a quantum of energy, in the form of a photon.\n",
    "\n",
    "However, for examples form the **[Qiskit Nature documentation](https://qiskit.org/documentation/nature/index.html)** that we will study, they prefered the definition of **electronic structure** in quantum chemistry, which is refered as **the state of motion of electrons in an electrostatic field created by stationary nuclei**. The term encompasses both the wave functions of the electrons and the energies associated with them and electronic structure is obtained by solving quantum mechanical equations for the aforementioned clamped-nuclei problem, which arises from the Born–Oppenheimer approximation[[5]](https://en.wikipedia.org/wiki/Electronic_structure). Except for a small number of simple problems such as hydrogen-like atoms, the solution of electronic structure problems require modern computers and such problems are routinely solved with quantum chemistry computer programs. In fact, electronic structure calculations rank among the most computationally intensive tasks in all scientific calculations, thus for this reason, quantum chemistry calculations take up significant shares on many scientific supercomputer facilities."
   ]
  },
  {
   "cell_type": "markdown",
   "id": "9df79f48-3a6e-41c3-9734-16a723040a4e",
   "metadata": {},
   "source": [
    "### II. Reasons to use Qiskit Nature\n",
    "\n",
    "As one contributing quantum computer for the calculations of electronic structure like I mentioned in the introduction part, Qiskit Nature not only have great potential to compute quantum chemistry problems, but can also allow researchers from different areas of natural sciences including physics, chemistry, material science and biology to investigate and simulate problems in natural sciences using quantum algorithms.\n",
    "\n",
    "In the new release of Qiskit Nature, the added problem-based structure enables a straightforward extension of Qiskit Nature toward other problem classes in condensed matter, lattice field theories, and biology. The new notion of a ‘problem’ in this release is a class that identifies particular, domain-specific quantum computing solutions that leverage general quantum algorithms supplied in Qiskit 0.25 and one example we will study in this project is the “electronic structure problem”. But overall, this release focuses on quantum chemistry solutions for electronic structure and vibrational structure problems and the built-in mapping of the initial fermionic and bosonic second quantized Hamiltonian into qubit operators leverages different levels of optimization and delivers corresponding qubit operators without the need of specific quantum computing competence. As part of this release, Qiskit Nature would also allow us to use the ubiquitous second quantization formalism to solve a variety of problems, ranging from fundamental particle physics to solid state physics and statistical mechanics. At the same time, we can re-frame our problems by using operators that fulfill fermionic, bosonic or spin statistics.Combinations of degrees of freedom subject to different commutation rules are also supported, thus in short these functionalities will enable the implementation of arbitrary Hamiltonians, making Qiskit Nature a nice toolbox to solve physical problems in quantum approach. \n",
    "\n",
    "Need to edit:\n",
    "\n",
    "Tackling quantum chemistry problems with Qiskit Nature requires the use of classical code, such as the PySCF driver. Qiskit Nature makes it easy to import and use these drivers, and then act on the output of the drivers using Transformers. Transformers help select or modify only the quantities from the Driver that you want to use, and then return an updated input to use for your quantum chemistry problem. Essentially, these transformers are ensuring that your program is only using the pieces of the classical data necessary in order to maximize its efficiency. Examples of transformations applied to electronic structure problems are the active space and freeze core reduction schemes.\n",
    "\n",
    "Once we have defined the problem, Qiskit Nature also helps map it onto the quantum computer. Second quantized operators are mapped onto qubit operators that can be directly used in quantum computations, without losing the information related to the nature of the problem. Different mappings are required for each different problem class and are available in Qiskit Nature via the qubit converter. In the case of fermionic problems, three different mapping schemes are provided: Jordan Wigner, Bravyi Kitaev, and Parity. For the spin operators we support the linear mapping while for vibrational operators the direct mapping is provided. The qubit converter can also perform qubit reduction operations exploiting symmetries in the Hamiltonian (expressed in qubit form) or other intrinsic properties of the qubit operator."
   ]
  },
  {
   "cell_type": "code",
   "execution_count": null,
   "id": "2ae2492d-1c67-4464-a2ae-dacd5cf215be",
   "metadata": {},
   "outputs": [],
   "source": []
  }
 ],
 "metadata": {
  "kernelspec": {
   "display_name": "Qiskit v0.31.0 (ipykernel)",
   "language": "python",
   "name": "python3"
  },
  "language_info": {
   "codemirror_mode": {
    "name": "ipython",
    "version": 3
   },
   "file_extension": ".py",
   "mimetype": "text/x-python",
   "name": "python",
   "nbconvert_exporter": "python",
   "pygments_lexer": "ipython3",
   "version": "3.8.10"
  },
  "widgets": {
   "application/vnd.jupyter.widget-state+json": {
    "state": {},
    "version_major": 2,
    "version_minor": 0
   }
  }
 },
 "nbformat": 4,
 "nbformat_minor": 5
}
