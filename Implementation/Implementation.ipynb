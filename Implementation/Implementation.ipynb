{
 "cells": [
  {
   "cell_type": "markdown",
   "id": "8710cd8a-201a-432b-9c53-813a22cadec4",
   "metadata": {},
   "source": [
    "# Introducing Qiskit Nature to study energy level\n",
    "## Implementation part"
   ]
  },
  {
   "cell_type": "markdown",
   "id": "2f85fd40-0c86-4f16-b853-be11b68d96e7",
   "metadata": {},
   "source": [
    "### I. The Hartree-Fock initial state\n",
    "\n",
    "As we obtained from the theoretical derivation of the literature part, we have the Molecular Orbitals (MOs) or the Hamiltonian re-expressed in the basis of the solution of the Hartree-Fock (HF) method as:\n",
    "\n",
    "$$\\hat{H}_{elec}=\\sum_{pq} h_{pq} \\hat{a}^{\\dagger}_p \\hat{a}_q + \\frac{1}{2} \\sum_{pqrs} h_{pqrs}  \\hat{a}^{\\dagger}_p \\hat{a}^{\\dagger}_q \\hat{a}_r  \\hat{a}_s$$\n",
    "\n",
    "The platform we use in this project, Qiskit Nature, is interfaced with different classical codes, which are able to find the HF solutions. Interfacing between Qiskit Nature and the following codes is already available: \"Gaussian\", \"Psi4\", \"PyQuante\" and \"PySCF\". In the following I will set up a PySCF driver for the hydrogen molecule at equilibrium bond length (0.735 angstrom) in the singlet state and with no charge."
   ]
  },
  {
   "cell_type": "code",
   "execution_count": 1,
   "id": "d1343c70-5dc2-4818-92c2-5701bcd81040",
   "metadata": {},
   "outputs": [
    {
     "name": "stdout",
     "output_type": "stream",
     "text": [
      "Requirement already satisfied: flake8 in /opt/conda/lib/python3.8/site-packages (4.0.1)\n",
      "Requirement already satisfied: pycodestyle_magic in /opt/conda/lib/python3.8/site-packages (0.5)\n",
      "Requirement already satisfied: pycodestyle<2.9.0,>=2.8.0 in /opt/conda/lib/python3.8/site-packages (from flake8) (2.8.0)\n",
      "Requirement already satisfied: pyflakes<2.5.0,>=2.4.0 in /opt/conda/lib/python3.8/site-packages (from flake8) (2.4.0)\n",
      "Requirement already satisfied: mccabe<0.7.0,>=0.6.0 in /opt/conda/lib/python3.8/site-packages (from flake8) (0.6.1)\n"
     ]
    }
   ],
   "source": [
    "#We have to first install the linting tools in Jupyter notebook\n",
    "!pip install flake8 pycodestyle_magic\n",
    "#To enable automatic linting use cell magic:\n",
    "%load_ext pycodestyle_magic\n",
    "%pycodestyle_on"
   ]
  },
  {
   "cell_type": "code",
   "execution_count": 2,
   "id": "d32440c8-58d5-4a00-94f2-e81b2de0ea46",
   "metadata": {},
   "outputs": [
    {
     "name": "stderr",
     "output_type": "stream",
     "text": [
      "/opt/conda/lib/python3.8/site-packages/pyscf/lib/misc.py:47: H5pyDeprecationWarning: Using default_file_mode other than 'r' is deprecated. Pass the mode to h5py.File() instead.\n",
      "  h5py.get_config().default_file_mode = 'a'\n",
      "2:80: E501 line too long (118 > 79 characters)\n",
      "4:80: E501 line too long (80 > 79 characters)\n",
      "32:80: E501 line too long (116 > 79 characters)\n"
     ]
    }
   ],
   "source": [
    "from qiskit_nature.drivers import UnitsType, Molecule\n",
    "from qiskit_nature.drivers.second_quantization import ElectronicStructureDriverType, ElectronicStructureMoleculeDriver\n",
    "molecule = Molecule(geometry=[['H', [0., 0., 0.]],\n",
    "                              ['H', [0., 0., 0.735]]], charge=0, multiplicity=1)\n",
    "\"\"\"This is a docstring for the imported function Molecule\n",
    "   Information below is based on the docstring in molecule.py\n",
    "\n",
    "   Description\n",
    "   -----------\n",
    "\n",
    "   This module implements an interface for a driver-independent, i.e. generic\n",
    "   molecule definition. It defines the composing atoms (with properties like\n",
    "   masses), and allows for changing the molecular geometry through given\n",
    "   degrees of freedom (e.g. bond-stretching, angle-bending, etc.). The\n",
    "   geometry as provided in the constructor can be affected, through setting\n",
    "   perturbations, and it is this perturbed geometry that is supplied by the\n",
    "   geometry getter. Setting perturbations to None will cause the original\n",
    "   geometry to be returned, and there is a getter to get this value directly\n",
    "   if its needed.\n",
    "\"\"\"\n",
    "\n",
    "\"\"\"This is a docstring for the imported\n",
    "   function ElectronicStructureMoleculeDriver\n",
    "   Information below is based on the docstring\n",
    "   in electronic_structure_molecule_driver.py\n",
    "\n",
    "   Description\n",
    "   -----------\n",
    "\n",
    "   Molecule based electronic structure driver\n",
    "\"\"\"\n",
    "driver = ElectronicStructureMoleculeDriver(molecule, basis='sto3g', driver_type=ElectronicStructureDriverType.PYSCF)"
   ]
  },
  {
   "cell_type": "markdown",
   "id": "0e5cfb11-082c-48c9-a70a-5276383b8b2a",
   "metadata": {},
   "source": [
    "### II. The mapping from fermions to qubits\n",
    "\n",
    "As we mentioned in the literature part, the Hamiltonian we have for HF method is expressed in terms of fermionic operators, and here we will map these operators to spin operators so that we can encode the problem into the state of a quantum computer. Here we set up the Electronic Structure Problem to generate the Second quantized operator and a qubit converter that will map it to a qubit operator."
   ]
  },
  {
   "cell_type": "code",
   "execution_count": 3,
   "id": "cabb0031-e9bf-4f5f-b5b8-92d21d068d32",
   "metadata": {},
   "outputs": [
    {
     "name": "stderr",
     "output_type": "stream",
     "text": [
      "1:80: E501 line too long (81 > 79 characters)\n",
      "3:80: E501 line too long (86 > 79 characters)\n"
     ]
    }
   ],
   "source": [
    "from qiskit_nature.problems.second_quantization import ElectronicStructureProblem\n",
    "from qiskit_nature.converters.second_quantization import QubitConverter\n",
    "from qiskit_nature.mappers.second_quantization import JordanWignerMapper, ParityMapper"
   ]
  },
  {
   "cell_type": "code",
   "execution_count": 4,
   "id": "5f762449-1418-4557-9ae5-1ea0bc4f1d8c",
   "metadata": {},
   "outputs": [
    {
     "name": "stdout",
     "output_type": "stream",
     "text": [
      "Fermionic Operator\n",
      "register length=4, number terms=14\n",
      "  (0.18093119978423147+0j) * ( +_0 -_1 +_2 -_3 )\n",
      "+ (-0.18093119978423144+0j) * ( +_0 -_1 -_2 +_3 )\n",
      "+ (-0.18093119978423144+0j) * ( -_0 +_1 +_2 -_3 )\n",
      "+ (0.1809311997842317+0j) * ( -_0 +_1 -_2 +_3 ) ...\n"
     ]
    }
   ],
   "source": [
    "es_problem = ElectronicStructureProblem(driver)\n",
    "\"\"\"This is a docstring for the imported function ElectronicStructureProblem\n",
    "   Information below is based on the\n",
    "   docstring in electronic_structure_problem.py\n",
    "\n",
    "   Description\n",
    "   -----------\n",
    "\n",
    "   Electronic Structure Problem\n",
    "\"\"\"\n",
    "second_q_op = es_problem.second_q_ops()\n",
    "\"\"\"This is a docstring for the function list\n",
    "   Information below is based on the original docstring\n",
    "\n",
    "   Description\n",
    "   -----------\n",
    "\n",
    "   Built-in mutable sequence.\n",
    "   If no argument is given, the constructor creates a new empty list.\n",
    "   The argument must be an iterable if specified.\n",
    "\"\"\"\n",
    "\n",
    "\"\"\"This is a docstring for the function print\n",
    "   Information below is based on the original docstring\n",
    "\n",
    "   Description\n",
    "   -----------\n",
    "\n",
    "   Prints the values to a stream, or to sys.stdout by default.\n",
    "\"\"\"\n",
    "print(second_q_op[0])"
   ]
  },
  {
   "cell_type": "markdown",
   "id": "82b0f4ea-d19d-448d-a347-634dfab57300",
   "metadata": {},
   "source": [
    "If we now transform this Hamiltonian for the given driver defined above we get our qubit operator:"
   ]
  },
  {
   "cell_type": "code",
   "execution_count": 5,
   "id": "d03a4ab6-b428-41fa-afe6-b64ffc2f2830",
   "metadata": {},
   "outputs": [
    {
     "name": "stdout",
     "output_type": "stream",
     "text": [
      "-0.8105479805373264 * IIII\n",
      "- 0.22575349222402508 * ZIII\n",
      "+ 0.17218393261915543 * IZII\n",
      "+ 0.1209126326177664 * ZZII\n",
      "- 0.22575349222402505 * IIZI\n",
      "+ 0.17464343068300475 * ZIZI\n",
      "+ 0.16614543256382425 * IZZI\n",
      "+ 0.17218393261915552 * IIIZ\n",
      "+ 0.16614543256382425 * ZIIZ\n",
      "+ 0.16892753870087926 * IZIZ\n",
      "+ 0.1209126326177664 * IIZZ\n",
      "+ 0.045232799946057875 * XXXX\n",
      "+ 0.045232799946057875 * YYXX\n",
      "+ 0.045232799946057875 * XXYY\n",
      "+ 0.045232799946057875 * YYYY\n"
     ]
    }
   ],
   "source": [
    "qubit_converter = QubitConverter(mapper=JordanWignerMapper())\n",
    "\"\"\"This is a docstring for the imported function QubitConverter\n",
    "   Information below is based on the docstring in qubit_converter.py\n",
    "\n",
    "   Description\n",
    "   -----------\n",
    "\n",
    "   A converter from Second-Quantized to Qubit Operators. This converter can be\n",
    "   configured with a mapper instance which will later be used when 2nd\n",
    "   quantized operators are requested to be converted (mapped) to qubit\n",
    "   operators.\n",
    "\"\"\"\n",
    "qubit_op = qubit_converter.convert(second_q_op[0])\n",
    "\"\"\"This is a docstring for the function PauliSumOp\n",
    "   Information below is based on the docstring in pauli_sum_op.py\n",
    "\n",
    "   Description\n",
    "   -----------\n",
    "\n",
    "   Class for Operators backend by Terra's ``SparsePauliOp`` class.\n",
    "\"\"\"\n",
    "print(qubit_op)"
   ]
  },
  {
   "cell_type": "markdown",
   "id": "9730095b-bced-4db9-ab83-3d6eb7ed4e2a",
   "metadata": {},
   "source": [
    "Note that in the minimal (STO-3G) basis set 4 qubits are required. We can reduce the number of qubits by using the Parity mapping, which allows for the removal of 2 qubits by exploiting known symmetries arising from the mapping."
   ]
  },
  {
   "cell_type": "code",
   "execution_count": 6,
   "id": "9658fd20-632f-4d07-97b0-7ac37ed05de5",
   "metadata": {},
   "outputs": [
    {
     "name": "stderr",
     "output_type": "stream",
     "text": [
      "1:80: E501 line too long (81 > 79 characters)\n",
      "4:80: E501 line too long (90 > 79 characters)\n"
     ]
    },
    {
     "name": "stdout",
     "output_type": "stream",
     "text": [
      "-1.0523732457728587 * II\n",
      "+ (-0.3979374248431804+1.3877787807814457e-17j) * ZI\n",
      "+ 0.3979374248431804 * IZ\n",
      "+ (-0.01128010425623549+1.3877787807814457e-17j) * ZZ\n",
      "+ 0.1809311997842315 * XX\n"
     ]
    }
   ],
   "source": [
    "qubit_converter = QubitConverter(mapper=ParityMapper(), two_qubit_reduction=True)\n",
    "# The docstring for the function QubitConverter is the same as above\n",
    "\n",
    "qubit_op = qubit_converter.convert(second_q_op[0], num_particles=es_problem.num_particles)\n",
    "\"\"\"This is a docstring for the function TaperedPauliSumOp\n",
    "   Information below is based on the docstring in tapered_pauli_sum_op.py\n",
    "\n",
    "   Description\n",
    "   -----------\n",
    "\n",
    "   Class for PauliSumOp after tapering\n",
    "\"\"\"\n",
    "print(qubit_op)"
   ]
  },
  {
   "cell_type": "markdown",
   "id": "379ae06e-ccdb-4c8d-8586-c0979b22bb87",
   "metadata": {},
   "source": [
    "As we can see, this time only 2 qubits are needed. Now that the Hamiltonian is ready, it can be used in a quantum algorithm to find information about the electronic structure of the corresponding molecule."
   ]
  },
  {
   "cell_type": "markdown",
   "id": "8f510ce0-59dd-4095-9791-465076e68a5d",
   "metadata": {},
   "source": [
    "### III. The ground state solver\n",
    "\n",
    "Since now we have the desired Hamiltonian of the electronic structure, we can discuss the ground state calculation interface and our next goal is to compute the ground state of a molecular Hamiltonian. Since we alreday defined the molecular system, we then need to define a solver, which is the algorithm through which the ground state is computed. Let’s first start with a purely classical example: the NumPy minimum eigensolver. This algorithm exactly diagonalizes the Hamiltonian. Although it scales badly, it can be used on small systems to check the results of the quantum algorithms."
   ]
  },
  {
   "cell_type": "code",
   "execution_count": 7,
   "id": "befee638-b7c6-4274-a755-d66b5620cd92",
   "metadata": {},
   "outputs": [],
   "source": [
    "from qiskit.algorithms import NumPyMinimumEigensolver\n",
    "\"\"\"This is a docstring for the imported function NumPyMinimumEigensolver\n",
    "   Information below is based on the docstring in numpy_minimum_eigen_solver.py\n",
    "\n",
    "   Description\n",
    "   -----------\n",
    "\n",
    "   The Numpy Minimum Eigensolver algorithm.The minimum eigensolver is only\n",
    "   searching over feasible states and returns an eigenstate that has the\n",
    "   smallest eigenvalue among feasible states.\n",
    "\"\"\"\n",
    "numpy_solver = NumPyMinimumEigensolver()"
   ]
  },
  {
   "cell_type": "markdown",
   "id": "27aa3296-7b6a-45ac-8e6b-fd83d06d76f9",
   "metadata": {},
   "source": [
    "To find the ground state we could also use the Variational Quantum Eigensolver (VQE) algorithm, which works by exchanging information between a classical and a quantum computer as depicted in the following figure.\n",
    "\n",
    "<img src=\"vqe.png\" alt=\"comparision fig.2\" height=\"70%\" width=\"70%\"/>\n",
    "\n",
    "To define the VQE solver, these essential elements are required:\n",
    "1. A variational form: here we use the Unitary Coupled Cluster (UCC) ansatz, which is a chemistry standard, thus a factory is available allowing a fast initialization of a VQE with UCC. The default is to use all single and double excitations, but the excitation type (S, D, SD) as well as other parameters can be selected by users.\n",
    "2. An initial state: the initial state of the qubits. In the factory used above, the qubits are initialized in the Hartree-Fock initial state (the qubits corresponding to occupied MOs are $|1\\rangle$ and those corresponding to virtual MOs are $|0\\rangle$).\n",
    "3. The backend: this is the quantum machine on which the right part of the figure above will be performed. Here we ask for the perfect quantum emulator (aer_simulator_statevector).\n",
    "\n",
    "Then Let’s initialize a VQE solver like following:"
   ]
  },
  {
   "cell_type": "code",
   "execution_count": 8,
   "id": "f799785b-0e74-4713-b581-809ff0a769bf",
   "metadata": {},
   "outputs": [
    {
     "name": "stderr",
     "output_type": "stream",
     "text": [
      "6:80: E501 line too long (88 > 79 characters)\n"
     ]
    }
   ],
   "source": [
    "from qiskit.providers.aer import StatevectorSimulator\n",
    "from qiskit import Aer\n",
    "from qiskit.utils import QuantumInstance\n",
    "from qiskit_nature.algorithms import VQEUCCFactory\n",
    "\n",
    "quantum_instance = QuantumInstance(backend=Aer.get_backend('aer_simulator_statevector'))\n",
    "\"\"\"This is a docstring for the imported function QuantumInstance\n",
    "   Information below is based on the docstring in quantum_instance.py\n",
    "\n",
    "   Description\n",
    "   -----------\n",
    "\n",
    "   Quantum Backend including execution setting. Quantum Instance holds a\n",
    "   Qiskit Terra backend as well as configuration for circuit transpilation\n",
    "   and execution. When provided to an Aqua algorithm the algorithm will\n",
    "   execute the circuits it needs to run using the instance.\n",
    "\"\"\"\n",
    "\n",
    "\"\"\"This is a docstring for the imported function VQEUCCFactory\n",
    "   Information below is based on the docstring in vqe_ucc_factory.py\n",
    "\n",
    "   Description\n",
    "   -----------\n",
    "\n",
    "   A factory to construct a VQE minimum eigensolver with UCCSD\n",
    "   ansatz wavefunction.\n",
    "\"\"\"\n",
    "vqe_solver = VQEUCCFactory(quantum_instance)"
   ]
  },
  {
   "cell_type": "markdown",
   "id": "e73c99b4-e663-4df5-aa5b-0b3eaf043f61",
   "metadata": {},
   "source": [
    "One could also use any available ansatz / initial state or even define one’s own. For instance:"
   ]
  },
  {
   "cell_type": "code",
   "execution_count": 9,
   "id": "1a819dc6-9648-414a-a41e-fec5d92cd718",
   "metadata": {},
   "outputs": [
    {
     "name": "stderr",
     "output_type": "stream",
     "text": [
      "32:80: E501 line too long (100 > 79 characters)\n"
     ]
    }
   ],
   "source": [
    "from qiskit.algorithms import VQE\n",
    "from qiskit.circuit.library import TwoLocal\n",
    "tl_circuit = TwoLocal(rotation_blocks=['h', 'rx'], entanglement_blocks='cz',\n",
    "                      entanglement='full', reps=2, parameter_prefix='y')\n",
    "\"\"\"This is a docstring for the imported function TwoLocal\n",
    "   Information below is based on the docstring in two_local.py\n",
    "\n",
    "   Description\n",
    "   -----------\n",
    "\n",
    "   The two-local circuit, which is a parameterized circuit consisting of\n",
    "   alternating rotation layers and entanglement layers. The rotation layers\n",
    "   are single qubit gates applied on all qubits and the entanglement layer\n",
    "   uses two-qubit gates to entangle the qubits according to a strategy set\n",
    "   using ``entanglement``. Both the rotation and entanglement gates can be\n",
    "   specified as string, gate-type or QuantumCircuit.\n",
    "\"\"\"\n",
    "\n",
    "\"\"\"This is a docstring for the imported function VQE\n",
    "   Information below is based on the docstring in vqe.py\n",
    "\n",
    "   Description\n",
    "   -----------\n",
    "\n",
    "   The Variational Quantum Eigensolver (VQE) algorithm, which is a quantum\n",
    "   algorithm that uses a variational technique to find the minimum eigenvalue\n",
    "   of the Hamiltonian :math:`H` of a given system. See more about\n",
    "   VQE at https://arxiv.org/abs/1304.3061.\n",
    "\n",
    "\"\"\"\n",
    "another_solver = VQE(ansatz=tl_circuit,\n",
    "                     quantum_instance=QuantumInstance(Aer.get_backend('aer_simulator_statevector')))"
   ]
  },
  {
   "cell_type": "markdown",
   "id": "74d92e63-b564-4638-a197-83d7e65fe457",
   "metadata": {},
   "source": [
    "### IV. The calculation and results\n",
    "\n",
    "We are now ready to run the calculation as following:"
   ]
  },
  {
   "cell_type": "code",
   "execution_count": 10,
   "id": "fc562dcc-11f3-4f02-a3e0-06d9584f386b",
   "metadata": {},
   "outputs": [
    {
     "name": "stdout",
     "output_type": "stream",
     "text": [
      "=== GROUND STATE ENERGY ===\n",
      " \n",
      "* Electronic ground state energy (Hartree): -1.857275030144\n",
      "  - computed part:      -1.857275030144\n",
      "~ Nuclear repulsion energy (Hartree): 0.719968994449\n",
      "> Total ground state energy (Hartree): -1.137306035695\n",
      " \n",
      "=== MEASURED OBSERVABLES ===\n",
      " \n",
      "  0:  # Particles: 2.000 S: 0.000 S^2: -0.000 M: 0.000\n",
      " \n",
      "=== DIPOLE MOMENTS ===\n",
      " \n",
      "~ Nuclear dipole moment (a.u.): [0.0  0.0  1.3889487]\n",
      " \n",
      "  0: \n",
      "  * Electronic dipole moment (a.u.): [0.0  0.0  1.38894872]\n",
      "    - computed part:      [0.0  0.0  1.38894872]\n",
      "  > Dipole moment (a.u.): [0.0  0.0  -0.00000002]  Total: 0.00000002\n",
      "                 (debye): [0.0  0.0  -0.00000004]  Total: 0.00000004\n",
      " \n"
     ]
    },
    {
     "name": "stderr",
     "output_type": "stream",
     "text": [
      "/opt/conda/lib/python3.8/site-packages/sympy/core/expr.py:3949: SymPyDeprecationWarning: \n",
      "\n",
      "expr_free_symbols method has been deprecated since SymPy 1.9. See\n",
      "https://github.com/sympy/sympy/issues/21494 for more info.\n",
      "\n",
      "  SymPyDeprecationWarning(feature=\"expr_free_symbols method\",\n"
     ]
    }
   ],
   "source": [
    "from qiskit_nature.algorithms import GroundStateEigensolver\n",
    "calc = GroundStateEigensolver(qubit_converter, vqe_solver)\n",
    "\"\"\"This is a docstring for the imported function GroundStateEigensolver\n",
    "   Information below is based on the docstring in ground_state_eigensolver.py\n",
    "\n",
    "   Description\n",
    "   -----------\n",
    "\n",
    "   Ground state computation using a minimum eigensolver.\n",
    "\"\"\"\n",
    "\n",
    "\"\"\"This is a docstring for the function ElectronicStructureResult\n",
    "   Information below is based on the docstring\n",
    "   in electronic_structure_result.py\n",
    "\n",
    "   Description\n",
    "   -----------\n",
    "\n",
    "   The electronic structure result.\n",
    "\"\"\"\n",
    "res = calc.solve(es_problem)\n",
    "\n",
    "print(res)"
   ]
  },
  {
   "cell_type": "markdown",
   "id": "7ba2803e-325c-412f-abf4-0d025ac1820d",
   "metadata": {},
   "source": [
    "We can compare the VQE results to the NumPy exact solver and see that they match."
   ]
  },
  {
   "cell_type": "code",
   "execution_count": 11,
   "id": "7f368689-699d-400a-a9e7-f029e0dc2090",
   "metadata": {},
   "outputs": [
    {
     "name": "stdout",
     "output_type": "stream",
     "text": [
      "=== GROUND STATE ENERGY ===\n",
      " \n",
      "* Electronic ground state energy (Hartree): -1.857275030202\n",
      "  - computed part:      -1.857275030202\n",
      "~ Nuclear repulsion energy (Hartree): 0.719968994449\n",
      "> Total ground state energy (Hartree): -1.137306035753\n",
      " \n",
      "=== MEASURED OBSERVABLES ===\n",
      " \n",
      "  0:  # Particles: 2.000 S: 0.000 S^2: 0.000 M: 0.000\n",
      " \n",
      "=== DIPOLE MOMENTS ===\n",
      " \n",
      "~ Nuclear dipole moment (a.u.): [0.0  0.0  1.3889487]\n",
      " \n",
      "  0: \n",
      "  * Electronic dipole moment (a.u.): [0.0  0.0  1.3889487]\n",
      "    - computed part:      [0.0  0.0  1.3889487]\n",
      "  > Dipole moment (a.u.): [0.0  0.0  0.0]  Total: 0.0\n",
      "                 (debye): [0.0  0.0  0.0]  Total: 0.0\n",
      " \n"
     ]
    }
   ],
   "source": [
    "calc = GroundStateEigensolver(qubit_converter, numpy_solver)\n",
    "res = calc.solve(es_problem)\n",
    "# The docstrings for these function QubitConverter are the same as above\n",
    "print(res)"
   ]
  },
  {
   "cell_type": "code",
   "execution_count": 12,
   "id": "7d83eb8c-44bb-4e11-9191-b2bb5dbed6bb",
   "metadata": {},
   "outputs": [
    {
     "name": "stderr",
     "output_type": "stream",
     "text": [
      "/opt/conda/lib/python3.8/site-packages/qiskit/aqua/__init__.py:86: DeprecationWarning: The package qiskit.aqua is deprecated. It was moved/refactored to qiskit-terra For more information see <https://github.com/Qiskit/qiskit-aqua/blob/main/README.md#migration-guide>\n",
      "  warn_package('aqua', 'qiskit-terra')\n"
     ]
    },
    {
     "data": {
      "text/html": [
       "<h3>Version Information</h3><table><tr><th>Qiskit Software</th><th>Version</th></tr><tr><td><code>qiskit-terra</code></td><td>0.18.3</td></tr><tr><td><code>qiskit-aer</code></td><td>0.9.1</td></tr><tr><td><code>qiskit-ignis</code></td><td>0.6.0</td></tr><tr><td><code>qiskit-ibmq-provider</code></td><td>0.17.0</td></tr><tr><td><code>qiskit-aqua</code></td><td>0.9.5</td></tr><tr><td><code>qiskit</code></td><td>0.31.0</td></tr><tr><td><code>qiskit-nature</code></td><td>0.2.2</td></tr><tr><td><code>qiskit-finance</code></td><td>0.2.1</td></tr><tr><td><code>qiskit-optimization</code></td><td>0.2.3</td></tr><tr><td><code>qiskit-machine-learning</code></td><td>0.2.1</td></tr><tr><th>System information</th></tr><tr><td>Python</td><td>3.8.10 | packaged by conda-forge | (default, May 11 2021, 07:01:05) \n",
       "[GCC 9.3.0]</td></tr><tr><td>OS</td><td>Linux</td></tr><tr><td>CPUs</td><td>8</td></tr><tr><td>Memory (Gb)</td><td>31.408958435058594</td></tr><tr><td colspan='2'>Sun Oct 24 03:34:29 2021 UTC</td></tr></table>"
      ],
      "text/plain": [
       "<IPython.core.display.HTML object>"
      ]
     },
     "metadata": {},
     "output_type": "display_data"
    },
    {
     "data": {
      "text/html": [
       "<div style='width: 100%; background-color:#d5d9e0;padding-left: 10px; padding-bottom: 10px; padding-right: 10px; padding-top: 5px'><h3>This code is a part of Qiskit</h3><p>&copy; Copyright IBM 2017, 2021.</p><p>This code is licensed under the Apache License, Version 2.0. You may<br>obtain a copy of this license in the LICENSE.txt file in the root directory<br> of this source tree or at http://www.apache.org/licenses/LICENSE-2.0.<p>Any modifications or derivative works of this code must retain this<br>copyright notice, and modified files need to carry a notice indicating<br>that they have been altered from the originals.</p></div>"
      ],
      "text/plain": [
       "<IPython.core.display.HTML object>"
      ]
     },
     "metadata": {},
     "output_type": "display_data"
    }
   ],
   "source": [
    "import qiskit.tools.jupyter\n",
    "%qiskit_version_table\n",
    "%qiskit_copyright"
   ]
  },
  {
   "cell_type": "markdown",
   "id": "34e131be-d6ec-4b23-b97f-aff2a6cb8e75",
   "metadata": {},
   "source": [
    "**Note that the implementation part of this project is mainly based on tutorials from [Qiskit Nature Documentation](https://qiskit.org/documentation/nature/index.html)**. The References are listed below:\n",
    "\n",
    "[[1] https://qiskit.org/documentation/nature/tutorials/01_electronic_structure.html](https://qiskit.org/documentation/nature/tutorials/01_electronic_structure.html);\n",
    "\n",
    "[[2] https://qiskit.org/documentation/nature/tutorials/03_ground_state_solvers.html](https://qiskit.org/documentation/nature/tutorials/03_ground_state_solvers.html);"
   ]
  }
 ],
 "metadata": {
  "kernelspec": {
   "display_name": "Qiskit v0.31.0 (ipykernel)",
   "language": "python",
   "name": "python3"
  },
  "language_info": {
   "codemirror_mode": {
    "name": "ipython",
    "version": 3
   },
   "file_extension": ".py",
   "mimetype": "text/x-python",
   "name": "python",
   "nbconvert_exporter": "python",
   "pygments_lexer": "ipython3",
   "version": "3.8.10"
  },
  "widgets": {
   "application/vnd.jupyter.widget-state+json": {
    "state": {
     "0564e4c480d84d8cb531613634f77f8e": {
      "model_module": "@jupyter-widgets/controls",
      "model_module_version": "1.5.0",
      "model_name": "HTMLModel",
      "state": {
       "layout": "IPY_MODEL_eb96c9c77012453a8843b960ceaabcc0",
       "style": "IPY_MODEL_5c87fea4549e4194beba9a07e29c7709",
       "value": "<h5>Job ID</h5>"
      }
     },
     "0ef0db66277246f19b023d42e830b97d": {
      "model_module": "@jupyter-widgets/base",
      "model_module_version": "1.2.0",
      "model_name": "LayoutModel",
      "state": {
       "width": "145px"
      }
     },
     "1108aa9346a749bdb699e66c2bc50025": {
      "model_module": "@jupyter-widgets/base",
      "model_module_version": "1.2.0",
      "model_name": "LayoutModel",
      "state": {
       "width": "70px"
      }
     },
     "1e72e84c1611485bb6f3f1e175b81acc": {
      "model_module": "@jupyter-widgets/controls",
      "model_module_version": "1.5.0",
      "model_name": "HTMLModel",
      "state": {
       "layout": "IPY_MODEL_1108aa9346a749bdb699e66c2bc50025",
       "style": "IPY_MODEL_7fd764157baf485ab243eebafd252a9b",
       "value": "<h5>Queue</h5>"
      }
     },
     "20291f936001423581efd72f3089af28": {
      "model_module": "@jupyter-widgets/controls",
      "model_module_version": "1.5.0",
      "model_name": "HTMLModel",
      "state": {
       "layout": "IPY_MODEL_0ef0db66277246f19b023d42e830b97d",
       "style": "IPY_MODEL_7e2208be21874647be3fdd09be23be21",
       "value": "<h5>Backend</h5>"
      }
     },
     "25383a4e7890497a8cf4c95d31183db6": {
      "model_module": "@jupyter-widgets/controls",
      "model_module_version": "1.5.0",
      "model_name": "HTMLModel",
      "state": {
       "layout": "IPY_MODEL_2eebbd4b587642efa1ab4b6614d14450",
       "style": "IPY_MODEL_38298823a0c149aa985fa407d61aecde",
       "value": "<h5>Status</h5>"
      }
     },
     "2b42587a45604836829db0515dcb2832": {
      "model_module": "@jupyter-widgets/controls",
      "model_module_version": "1.5.0",
      "model_name": "HBoxModel",
      "state": {
       "children": [
        "IPY_MODEL_0564e4c480d84d8cb531613634f77f8e",
        "IPY_MODEL_20291f936001423581efd72f3089af28",
        "IPY_MODEL_25383a4e7890497a8cf4c95d31183db6",
        "IPY_MODEL_1e72e84c1611485bb6f3f1e175b81acc",
        "IPY_MODEL_56bd6fbedf39499c8aead378aec1dc33"
       ],
       "layout": "IPY_MODEL_6333c9b960424551b59dfa09965a0a2d"
      }
     },
     "2eebbd4b587642efa1ab4b6614d14450": {
      "model_module": "@jupyter-widgets/base",
      "model_module_version": "1.2.0",
      "model_name": "LayoutModel",
      "state": {
       "width": "95px"
      }
     },
     "38298823a0c149aa985fa407d61aecde": {
      "model_module": "@jupyter-widgets/controls",
      "model_module_version": "1.5.0",
      "model_name": "DescriptionStyleModel",
      "state": {
       "description_width": ""
      }
     },
     "4da7885613f94bc3949de49de7181b98": {
      "model_module": "@jupyter-widgets/controls",
      "model_module_version": "1.5.0",
      "model_name": "GridBoxModel",
      "state": {
       "children": [
        "IPY_MODEL_9d1d4a7cb8204533a71d922ba9a2c554"
       ],
       "layout": "IPY_MODEL_5ec4dc8bea1d4882a002583d65f0e0c6"
      }
     },
     "4f52b7faec4e49b0934937da963586d1": {
      "model_module": "@jupyter-widgets/controls",
      "model_module_version": "1.5.0",
      "model_name": "DescriptionStyleModel",
      "state": {
       "description_width": ""
      }
     },
     "56bd6fbedf39499c8aead378aec1dc33": {
      "model_module": "@jupyter-widgets/controls",
      "model_module_version": "1.5.0",
      "model_name": "HTMLModel",
      "state": {
       "layout": "IPY_MODEL_95c4709ccd3b4a948fdf1203b5c70285",
       "style": "IPY_MODEL_6d84c0f39f544608a8fa4ecf3242e31a",
       "value": "<h5>Message</h5>"
      }
     },
     "5c87fea4549e4194beba9a07e29c7709": {
      "model_module": "@jupyter-widgets/controls",
      "model_module_version": "1.5.0",
      "model_name": "DescriptionStyleModel",
      "state": {
       "description_width": ""
      }
     },
     "5ec4dc8bea1d4882a002583d65f0e0c6": {
      "model_module": "@jupyter-widgets/base",
      "model_module_version": "1.2.0",
      "model_name": "LayoutModel",
      "state": {
       "grid_template_areas": "\n                                       \". . . . right \"\n                                        ",
       "grid_template_columns": "20% 20% 20% 20% 20%",
       "width": "100%"
      }
     },
     "6333c9b960424551b59dfa09965a0a2d": {
      "model_module": "@jupyter-widgets/base",
      "model_module_version": "1.2.0",
      "model_name": "LayoutModel",
      "state": {
       "margin": "0px 0px 0px 37px",
       "width": "600px"
      }
     },
     "650c0eb8ea1b46ef894a48ff6cf4a4a7": {
      "model_module": "@jupyter-widgets/controls",
      "model_module_version": "1.5.0",
      "model_name": "HTMLModel",
      "state": {
       "layout": "IPY_MODEL_fbdf1c5417594e619dcd0ff33f29d478",
       "style": "IPY_MODEL_4f52b7faec4e49b0934937da963586d1",
       "value": "<p style='font-family: IBM Plex Sans, Arial, Helvetica, sans-serif; font-size: 20px; font-weight: medium;'>Circuit Properties</p>"
      }
     },
     "6d84c0f39f544608a8fa4ecf3242e31a": {
      "model_module": "@jupyter-widgets/controls",
      "model_module_version": "1.5.0",
      "model_name": "DescriptionStyleModel",
      "state": {
       "description_width": ""
      }
     },
     "74486d872a89477abfa4d8e7bae5705a": {
      "model_module": "@jupyter-widgets/base",
      "model_module_version": "1.2.0",
      "model_name": "LayoutModel",
      "state": {
       "grid_area": "right",
       "padding": "0px 0px 0px 0px",
       "width": "70px"
      }
     },
     "7965c37f799548239887c0eac1e4b56f": {
      "model_module": "@jupyter-widgets/controls",
      "model_module_version": "1.5.0",
      "model_name": "ButtonStyleModel",
      "state": {}
     },
     "7e2208be21874647be3fdd09be23be21": {
      "model_module": "@jupyter-widgets/controls",
      "model_module_version": "1.5.0",
      "model_name": "DescriptionStyleModel",
      "state": {
       "description_width": ""
      }
     },
     "7fd764157baf485ab243eebafd252a9b": {
      "model_module": "@jupyter-widgets/controls",
      "model_module_version": "1.5.0",
      "model_name": "DescriptionStyleModel",
      "state": {
       "description_width": ""
      }
     },
     "95c4709ccd3b4a948fdf1203b5c70285": {
      "model_module": "@jupyter-widgets/base",
      "model_module_version": "1.2.0",
      "model_name": "LayoutModel",
      "state": {}
     },
     "9d1d4a7cb8204533a71d922ba9a2c554": {
      "model_module": "@jupyter-widgets/controls",
      "model_module_version": "1.5.0",
      "model_name": "ButtonModel",
      "state": {
       "button_style": "primary",
       "description": "Clear",
       "layout": "IPY_MODEL_74486d872a89477abfa4d8e7bae5705a",
       "style": "IPY_MODEL_7965c37f799548239887c0eac1e4b56f"
      }
     },
     "eb96c9c77012453a8843b960ceaabcc0": {
      "model_module": "@jupyter-widgets/base",
      "model_module_version": "1.2.0",
      "model_name": "LayoutModel",
      "state": {
       "width": "190px"
      }
     },
     "fbdf1c5417594e619dcd0ff33f29d478": {
      "model_module": "@jupyter-widgets/base",
      "model_module_version": "1.2.0",
      "model_name": "LayoutModel",
      "state": {
       "margin": "0px 0px 10px 0px"
      }
     }
    },
    "version_major": 2,
    "version_minor": 0
   }
  }
 },
 "nbformat": 4,
 "nbformat_minor": 5
}
