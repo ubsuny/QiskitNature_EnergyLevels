{
 "cells": [
  {
   "cell_type": "markdown",
   "id": "b5ef7698-1f23-4a83-ad74-314e223caf3f",
   "metadata": {},
   "source": [
    "# Introducing Qiskit Nature to study energy level\n",
    "## Literature part"
   ]
  },
  {
   "cell_type": "markdown",
   "id": "1bbb03f6-c923-4fc2-8bdd-30d462b1e6bf",
   "metadata": {
    "tags": []
   },
   "source": [
    "### I. Introduction\n",
    "\n",
    "As a new topic in the course of computaional physics this semester, quantum computer provides novel and fantastic ways for us to study and solve problems that we used to solve in classical way and surely shows the possibility that we could use it to solve complicate problems more effectively. One simple example we have seen is the half adder circuit that can calculate 1+1=2 by **IBM Qiskit**, but could **we extend our vision to more complex problem that also related to the physics**? The answer is definitely yes as Richard Feynman envisioned quantum devices as a new computational paradigm for the simulation of Nature at its fundamental (quantum) level [[1]](https://medium.com/qiskit/introducing-qiskit-nature-cb9e588bb004). \n",
    "\n",
    "The amazing platform that we will use in this midterm project is the **Qiskit Nature**, which is designed to bridge the gap between natural sciences and quantum simulations. The modularity of Qiskit Nature allows researchers in physics to model and solve problems using quantum simulations as well as direct experiments on quantum computers via the IBM Quantum Cloud systems. In addition, the user interface enables researchers to interact with Qiskit Nature at different levels, ranging from software development (allowing direct programming of new functionalities) to solution-driven applications (requiring no specific quantum computing or quantum hardware knowledge). However, for this midterm project, **we will only focus on the simple part of solution-driven ones by applying them to study the physical problem of energy level and trying to understand and rewrite the codes from given examples.**\n",
    "\n",
    "Then let me briefly talk about the **physical context of this midterm project:** As we know for classical particles, they can have any amount of energy or the so-called \"continuous energy\" and can be solved by using Lagrangian mechanics or Hamiltonian mechanics from the classical theory. As a contrast, things become different when we dive in the micorscopic world of quantum mechanics since particles in quantum system are bound or spatially confined, which means they can only take on certain discrete values of energy and they are called **energy levels** as shown on the picture below. The energy spectrum of a system with such discrete energy levels is said to be **quantized** and such terms are commonly used for the energy levels of the electrons in atoms, ions, or molecules, which are bound by the electric field of the nucleus[[2]](https://en.wikipedia.org/wiki/Energy_level).\n",
    "\n",
    "<img src=\"energy levels.png\" alt=\"energy levels\" height=\"20%\" width=\"20%\"/>\n",
    "\n",
    "In this midterm project, we will mainly study the energy levels of electrons so before starting our physical derivation, the concept of electronic structure is also necessary to be mentioned. **Electronic configurations**, which is the distribution of electrons of an atom or molecule in atomic or molecular orbitals, describe each electron as moving independently in an orbital in an average field created by all other orbitals. Mathematically, configurations are described by Slater determinants or configuration state functions[[3]](https://en.wikipedia.org/wiki/Electron_configuration). Then the energy associated to an electron is that of its orbital and the energy of a configuration is often approximated as the sum of the energy of each electron, neglecting the electron-electron interactions. The configuration that corresponds to the lowest electronic energy is called the **ground state**, also known as the zero-point energy of the system. In quantum field theory, the ground state is usually called the **vacuum state** or the vacuum. If more than one ground state exists, they are said to be **degenerate**. Many systems have degenerate ground states and degeneracy occurs whenever there exists a unitary operator that acts non-trivially on a ground state and commutes with the Hamiltonian of the system[[4]](https://en.wikipedia.org/wiki/Ground_state). Any other configuration with energy greater than the ground state is an excited state and electrons are able to move from one configuration to another by the emission or absorption of a quantum of energy, in the form of a photon.\n",
    "\n",
    "However, for examples form the **Qiskit Nature documentation** [[5]](https://qiskit.org/documentation/nature/index.html) that we will study, they prefered the definition of **electronic structure** in quantum chemistry, which is refered as **the state of motion of electrons in an electrostatic field created by stationary nuclei**. The term encompasses both the wave functions of the electrons and the energies associated with them and electronic structure is obtained by solving quantum mechanical equations for the aforementioned clamped-nuclei problem, which arises from the Born–Oppenheimer approximation[[6]](https://en.wikipedia.org/wiki/Electronic_structure). Except for a small number of simple problems such as hydrogen-like atoms, the solution of electronic structure problems require modern computers and such problems are routinely solved with quantum chemistry computer programs. In fact, electronic structure calculations rank among the most computationally intensive tasks in all scientific calculations, thus for this reason, quantum chemistry calculations take up significant shares on many scientific supercomputer facilities."
   ]
  },
  {
   "cell_type": "markdown",
   "id": "9df79f48-3a6e-41c3-9734-16a723040a4e",
   "metadata": {},
   "source": [
    "### II. Reasons to use Qiskit Nature\n",
    "\n",
    "As one contributing quantum computer for the calculations of electronic structure like I mentioned in the introduction part, Qiskit Nature not only have great potential to compute quantum chemistry problems, but can also allow researchers from different areas of natural sciences including physics, chemistry, material science and biology to investigate and simulate problems in natural sciences using quantum algorithms.\n",
    "\n",
    "In the new release of Qiskit Nature[[7]](https://research.ibm.com/blog/qiskit-application-modules), the added problem-based structure enables a straightforward extension of Qiskit Nature toward other problem classes in condensed matter, lattice field theories, and biology. The new notion of a ‘problem’ in this release is a class that identifies particular, domain-specific quantum computing solutions that leverage general quantum algorithms supplied in Qiskit 0.25 and one example we will study in this project is the “electronic structure problem”. But overall, this release focuses on quantum chemistry solutions for electronic structure and vibrational structure problems and the built-in mapping of the initial fermionic and bosonic second quantized Hamiltonian into qubit operators leverages different levels of optimization and delivers corresponding qubit operators without the need of specific quantum computing competence. As part of this release, Qiskit Nature would also allow us to use the ubiquitous second quantization formalism to solve a variety of problems**, ranging from fundamental particle physics to solid state physics and statistical mechanics. At the same time, we can re-frame our problems by using operators that fulfill fermionic, bosonic or spin statistics.Combinations of degrees of freedom subject to different commutation rules are also supported, thus **in short these functionalities will enable the implementation of arbitrary Hamiltonians, making Qiskit Nature a nice toolbox to solve physical problems in quantum approach**.\n",
    "\n",
    "However, to compute and slove problems that are used to be dealed with in classical way from a quantum computer, one would still need some assiantce from classcial computer. In other word, **there is no such method to build a \"complete quantum computer\" which has no similarity with a classical one at least for Qiskit Nature**. For example, tackling quantum chemistry problems with Qiskit Nature requires the use of classical code, such as the PySCF driver, but Qiskit Nature makes it easy to import and use these drivers, and then act on the output of the drivers using Transformers, which help select or modify only the quantities from the wanted driver, and then return an updated input to use for the quantum chemistry problem. Essentially, these transformers are ensuring that the program is only using the pieces of the classical data necessary in order to maximize its efficiency. **For this project, we will see the examples of transformations applied to electronic structure problems are the active space and freeze core reduction schemes**.\n",
    "\n",
    "Qiskit Nature is not only powerful to make it easy and convenient for us to define our problem in the way of quantum computer, but **can also helps map it onto the quantum computer once we have defined our problem**. Second quantized operators are mapped onto qubit operators that can be directly used in quantum computations, without losing the information related to the nature of the problem. Different mappings are required for each different problem class and are available in Qiskit Nature via the qubit converter. In the case of fermionic problems, three different mapping schemes are provided: Jordan Wigner, Bravyi Kitaev, and Parity. For the spin operators the linear mapping is supported while for vibrational operators the direct mapping is provided. The qubit converter can also perform qubit reduction operations exploiting symmetries in the Hamiltonian (expressed in qubit form) or other intrinsic properties of the qubit operator."
   ]
  },
  {
   "cell_type": "markdown",
   "id": "3154e833-32f1-48e8-9515-4fe87099e2ed",
   "metadata": {},
   "source": [
    "### III. Theoretical derivation\n",
    "\n",
    "In this part, some theoretical derivations for this project will be showed and **the implementation part of the project will be based on this part**, especially for the preparation of the Hamiltonian of the electronic structure. Notice the following content are **mainly based on the tutorials from documentation of Qiskit Nature**[[8]](https://github.com/Qiskit/qiskit-nature).\n",
    "\n",
    "First let's start on the **molecular Hamiltonian**, which can be written as:\n",
    "\n",
    "$$\\mathcal{H} = - \\sum_I \\frac{\\nabla_{R_I}^2}{M_I} - \\sum_i \\frac{\\nabla_{r_i}^2}{m_e} - \\sum_I\\sum_i  \\frac{Z_I e^2}{|R_I-r_i|} + \\sum_i \\sum_{j>i} \\frac{e^2}{|r_i-r_j|} + \\sum_I\\sum_{J>I} \\frac{Z_I Z_J e^2}{|R_I-R_J|}$$\n",
    "\n",
    "Because the nuclei are much heavier than the electrons they do not move on the same time scale and therefore, the behavior of nuclei and electrons can be decoupled. This is the **Born-Oppenheimer approximation**, and hence one can first tackle the electronic problem with nuclear coordinate entering only as parameters. **The energy levels of the electrons in the molecule can be found by solving the non-relativistic time independent Schroedinger equation**:\n",
    "\n",
    "$$\\mathcal{H}_{\\text{el}} |\\Psi_{n}\\rangle = E_{n} |\\Psi_{n}\\rangle$$\n",
    "\n",
    "where\n",
    "\n",
    "$$\\mathcal{H}_{\\text{el}} = - \\sum_i \\frac{\\nabla_{r_i}^2}{m_e} - \\sum_I\\sum_i  \\frac{Z_I e^2}{|R_I-r_i|} + \\sum_i \\sum_{j>i} \\frac{e^2}{|r_i-r_j|}$$\n",
    "\n",
    "In particular **the ground state energy is given by**:\n",
    "\n",
    "$$E_0 = \\frac{\\langle \\Psi_0 | H_{\\text{el}} | \\Psi_0 \\rangle}{\\langle \\Psi_0 | \\Psi_0 \\rangle}$$\n",
    "\n",
    "where $\\Psi_0$ is the ground state of the system. However, **the dimensionality of this problem grows exponentially with the number of degrees of freedom**. To tackle this issue we would like to **prepare $\\Psi_0$ on a quantum computer and measure the Hamiltonian expectation value (or $E_0$) directly**.\n",
    "\n",
    "To concretely do this, we can use the **Hartree-Fock (HF) method**, which **approximates a N-body problem into N one-body problems** where each electron evolves in the mean-field of the others. Classically solving the HF equations is efficient and leads to the exact exchange energy but does not include any electron correlation. Therefore, it is usually **a good starting point to start adding correlation**. The Hamiltonian can then be re-expressed in the basis of the solutions of the HF method, also called **Molecular Orbitals (MOs)**:\n",
    "\n",
    "$$\\hat{H}_{elec}=\\sum_{pq} h_{pq} \\hat{a}^{\\dagger}_p \\hat{a}_q + \\frac{1}{2} \\sum_{pqrs} h_{pqrs}  \\hat{a}^{\\dagger}_p \\hat{a}^{\\dagger}_q \\hat{a}_r  \\hat{a}_s$$\n",
    "\n",
    "with the 1-body integrals:\n",
    "The Jordan-Wigner mapping is particularly interesting as it maps each Spin Orbital to a qubit (as shown on the Figure above).\n",
    "$$h_{pq} = \\int \\phi^*_p(r) \\left( -\\frac{1}{2} \\nabla^2 - \\sum_{I} \\frac{Z_I}{R_I- r} \\right)   \\phi_q(r)dr$$\n",
    "\n",
    "and 2-body integrals:\n",
    "\n",
    "$$h_{pqrs} = \\int \\frac{\\phi^*_p(r_1)  \\phi^*_q(r_2) \\phi_r(r_2)  \\phi_s(r_1)}{|r_1-r_2|}dr_1dr_2.$$\n",
    "\n",
    "The MOs ($\\phi_u$) can be occupied or unoccupied. One MO can contain 2 electrons. However, in what follows we will actually work with Spin Orbitals which are associated with a spin up ($\\alpha$) of spin down ($\\beta$) electron. Thus **Spin Orbitals can contain one electron or be unoccupied**. But to encode the problem into the state of a quantum computer, the spin operators are required. The Hamiltonian we got so far is expressed in terms of fermionic operators so **we must map them to spin operators and indeed the qubits follow spin statistics**.\n",
    "\n",
    "<img src=\"fermions to qubits mapping.png\" alt=\"fermions to qubits mapping\" height=\"60%\" width=\"60%\"/>\n",
    "\n",
    "There exist different mapping types with different properties but Qiskit already supports the following mappings: The \"Jordan-Wigner\" mapping (From The collected works of Eugene Paul Wigner (pp. 109-129). Springer, Berlin, Heidelberg (1993)), the \"Parity mapping (The Journal of chemical physics, 137(22), 224109 (2012)) and the \"Bravyi-Kitaev\" mapping (Annals of Physics, 298(1), 210-226 (2002)). Among them, the **Jordan-Wigner mapping** is particularly interesting as it **maps each spin orbital to a qubit** as shown on the Figure above.\n"
   ]
  },
  {
   "cell_type": "markdown",
   "id": "9dbb98da-70d4-4e59-a60d-af7fc77c15d3",
   "metadata": {},
   "source": [
    "### IV. Comparision with other method\n",
    "\n",
    "In this part, I would also like to **introduce briefly another method to solve electronic structure problems so that we can compare that with our quantum method**, Qiskit Nature, to see the advantages and disadvantages that quantum computer brings with. The comparing method I chose is by using machine learning to solve electronic structure problems from a paper in recent year[[9]](https://www.nature.com/articles/s41524-019-0162-7).\n",
    "\n",
    "The starting point of this paper is that simulations based on solving the Kohn-Sham (KS) equation of density functional theory (DFT) have become a vital component of chemical sciences research but despite its versatility, routine DFT calculations are usually limited to a few hundred atoms due to the computational bottleneck posed by the KS equation. Thus authors of this paper came up with the idea to **introduce a machine-learning-based scheme** to efficiently **assimilate the function of the KS equation** and by-pass it to directly, rapidly, and accurately **predict the electronic structure of a material or a molecule, given just its atomic configuration**. The figure below shows their main ideas and the schematic of the hierarchical-paradigm of applying surrogate models to different outputs of first-principles calculations.\n",
    "\n",
    "<img src=\"comparision fig.1.png\" alt=\"comparision fig.1\" height=\"60%\" width=\"60%\"/>\n",
    "\n",
    "Then their main approach to achieve this purpose is to **utilize a new rotationally invariant representation to map the atomic environment** around a grid-point to the electron density and local density of states at that grid-point and **such mapping is learned by using a neural network** trained on previously generated reference DFT results at millions of grid-points. The figure below shows their main steps and the overview of the process used to generate surrogate models for the charge density and density of states.\n",
    "\n",
    "<img src=\"comparision fig.2.png\" alt=\"comparision fig.2\" height=\"60%\" width=\"60%\"/>\n",
    "\n",
    "As this figure shows, the first step entails the generation of the the training dataset by sampling random snapshots of molecular dynamics trajectories. First-principles calculations were then performed on these systems to obtain the training atomic configurations, charge densities, and local density of states. The scalar (S), vector (V), and tensor (T) fingerprint invariants are mapped to the local electronic structure at every grid-point. For the charge density, this mapping is achieved using a simple fully connected neural network with one output neuron. The LDOS spectrum, on the other hand, is learned via a recurrent neural network architecture, wherein the LDOS at every energy window is represented as a single output neuron, which is linked via a recurrent layer to other neighboring energy windows. The trained model is then used to predict the electronic structure (i.e, DOS and charge density) of an unseen configuration.\n",
    "\n",
    "In summary, the **advantage** for this method **is that the proposed paradigm allows for the high-fidelity emulation of KS DFT and orders of magnitude are faster than the direct solution**. But its **disadvantage is that the machine learning prediction scheme is strictly linear-scaling with system size**."
   ]
  },
  {
   "cell_type": "markdown",
   "id": "4f1198a7-3f2d-4b6b-b13a-1f993a2e8afb",
   "metadata": {},
   "source": [
    "### V. References\n",
    "\n",
    "[[1] https://medium.com/qiskit/introducing-qiskit-nature-cb9e588bb004](https://medium.com/qiskit/introducing-qiskit-nature-cb9e588bb004);\n",
    "\n",
    "[[2] https://en.wikipedia.org/wiki/Energy_level](https://en.wikipedia.org/wiki/Energy_level);\n",
    "\n",
    "[[3] https://en.wikipedia.org/wiki/Electron_configuration](https://en.wikipedia.org/wiki/Electron_configuration);\n",
    "\n",
    "[[4] https://en.wikipedia.org/wiki/Ground_state](https://en.wikipedia.org/wiki/Ground_state);\n",
    "\n",
    "[[5] https://qiskit.org/documentation/nature/index.html](https://qiskit.org/documentation/nature/index.html);\n",
    "\n",
    "[[6] https://en.wikipedia.org/wiki/Electronic_structure](https://en.wikipedia.org/wiki/Electronic_structure);\n",
    "\n",
    "[[7] https://research.ibm.com/blog/qiskit-application-modules](https://research.ibm.com/blog/qiskit-application-modules);\n",
    "\n",
    "[[8] https://github.com/Qiskit/qiskit-nature](https://github.com/Qiskit/qiskit-nature);\n",
    "\n",
    "[[9] https://www.nature.com/articles/s41524-019-0162-7](https://www.nature.com/articles/s41524-019-0162-7);"
   ]
  }
 ],
 "metadata": {
  "kernelspec": {
   "display_name": "Qiskit v0.31.0 (ipykernel)",
   "language": "python",
   "name": "python3"
  },
  "language_info": {
   "codemirror_mode": {
    "name": "ipython",
    "version": 3
   },
   "file_extension": ".py",
   "mimetype": "text/x-python",
   "name": "python",
   "nbconvert_exporter": "python",
   "pygments_lexer": "ipython3",
   "version": "3.8.10"
  },
  "widgets": {
   "application/vnd.jupyter.widget-state+json": {
    "state": {},
    "version_major": 2,
    "version_minor": 0
   }
  }
 },
 "nbformat": 4,
 "nbformat_minor": 5
}
